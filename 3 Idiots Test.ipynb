{
 "cells": [
  {
   "cell_type": "code",
   "execution_count": 1,
   "id": "5906c139",
   "metadata": {},
   "outputs": [],
   "source": [
    "import numpy as np\n",
    "import pandas as pd\n",
    "from scrapy.selector import Selector\n",
    "from selenium import webdriver \n",
    "from selenium.webdriver.common.by import By\n",
    "from selenium.webdriver.common.keys import Keys\n",
    "import time\n",
    "from tqdm import tqdm\n",
    "import warnings\n",
    "warnings.filterwarnings(\"ignore\")"
   ]
  },
  {
   "cell_type": "code",
   "execution_count": 4,
   "id": "4353e109",
   "metadata": {},
   "outputs": [
    {
     "name": "stdout",
     "output_type": "stream",
     "text": [
      "3 Idiots (2009) - IMDb\n"
     ]
    }
   ],
   "source": [
    "driver = webdriver.Chrome()\n",
    "url = 'https://www.imdb.com/title/tt1187043/?ref_=nv_sr_srsg_0_tt_8_nm_0_q_3%2520Id'\n",
    "time.sleep(1)\n",
    "driver.get(url)\n",
    "time.sleep(1)\n",
    "print(driver.title)\n",
    "time.sleep(1)\n",
    "body = driver.find_element(By.CSS_SELECTOR, 'body')\n",
    "body.send_keys(Keys.PAGE_DOWN)\n",
    "time.sleep(1)\n",
    "body.send_keys(Keys.PAGE_DOWN)\n",
    "time.sleep(1)\n",
    "body.send_keys(Keys.PAGE_DOWN)"
   ]
  },
  {
   "cell_type": "code",
   "execution_count": null,
   "id": "5d0dd17c",
   "metadata": {},
   "outputs": [],
   "source": []
  }
 ],
 "metadata": {
  "kernelspec": {
   "display_name": "selenium-python",
   "language": "python",
   "name": "selenium-python"
  },
  "language_info": {
   "codemirror_mode": {
    "name": "ipython",
    "version": 3
   },
   "file_extension": ".py",
   "mimetype": "text/x-python",
   "name": "python",
   "nbconvert_exporter": "python",
   "pygments_lexer": "ipython3",
   "version": "3.11.4"
  }
 },
 "nbformat": 4,
 "nbformat_minor": 5
}
